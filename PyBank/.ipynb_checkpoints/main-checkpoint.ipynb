{
 "cells": [
  {
   "cell_type": "code",
   "execution_count": 1,
   "id": "simple-light",
   "metadata": {},
   "outputs": [],
   "source": [
    "import pandas as pd\n"
   ]
  },
  {
   "cell_type": "code",
   "execution_count": 2,
   "id": "diverse-excuse",
   "metadata": {
    "scrolled": true
   },
   "outputs": [
    {
     "data": {
      "text/html": [
       "<div>\n",
       "<style scoped>\n",
       "    .dataframe tbody tr th:only-of-type {\n",
       "        vertical-align: middle;\n",
       "    }\n",
       "\n",
       "    .dataframe tbody tr th {\n",
       "        vertical-align: top;\n",
       "    }\n",
       "\n",
       "    .dataframe thead th {\n",
       "        text-align: right;\n",
       "    }\n",
       "</style>\n",
       "<table border=\"1\" class=\"dataframe\">\n",
       "  <thead>\n",
       "    <tr style=\"text-align: right;\">\n",
       "      <th></th>\n",
       "      <th>Date</th>\n",
       "      <th>Profit/Losses</th>\n",
       "    </tr>\n",
       "  </thead>\n",
       "  <tbody>\n",
       "    <tr>\n",
       "      <th>0</th>\n",
       "      <td>Jan-2010</td>\n",
       "      <td>867884</td>\n",
       "    </tr>\n",
       "    <tr>\n",
       "      <th>1</th>\n",
       "      <td>Feb-2010</td>\n",
       "      <td>984655</td>\n",
       "    </tr>\n",
       "    <tr>\n",
       "      <th>2</th>\n",
       "      <td>Mar-2010</td>\n",
       "      <td>322013</td>\n",
       "    </tr>\n",
       "    <tr>\n",
       "      <th>3</th>\n",
       "      <td>Apr-2010</td>\n",
       "      <td>-69417</td>\n",
       "    </tr>\n",
       "    <tr>\n",
       "      <th>4</th>\n",
       "      <td>May-2010</td>\n",
       "      <td>310503</td>\n",
       "    </tr>\n",
       "  </tbody>\n",
       "</table>\n",
       "</div>"
      ],
      "text/plain": [
       "       Date  Profit/Losses\n",
       "0  Jan-2010         867884\n",
       "1  Feb-2010         984655\n",
       "2  Mar-2010         322013\n",
       "3  Apr-2010         -69417\n",
       "4  May-2010         310503"
      ]
     },
     "execution_count": 2,
     "metadata": {},
     "output_type": "execute_result"
    }
   ],
   "source": [
    "budget_df = pd.read_csv('Resources/budget_data.csv')\n",
    "budget_df.head()"
   ]
  },
  {
   "cell_type": "code",
   "execution_count": 3,
   "id": "subject-rainbow",
   "metadata": {
    "scrolled": true
   },
   "outputs": [],
   "source": [
    "months = len(budget_df['Date'])\n",
    "net_profit = budget_df['Profit/Losses'].sum()\n",
    "\n",
    "budget_df['Delta'] = None\n",
    "for i in range(1,len(budget_df)):\n",
    "    budget_df.loc[i,'Delta'] = budget_df.loc[i,'Profit/Losses'] - budget_df.loc[i-1,'Profit/Losses']\n",
    "\n",
    "avg_change = round(budget_df['Delta'].mean(),2)\n",
    "\n",
    "\n",
    "max_increase = budget_df.loc[budget_df[\"Delta\"] == budget_df[\"Delta\"].max(),:]\n",
    "max_decrease = budget_df.loc[budget_df[\"Delta\"] == budget_df[\"Delta\"].min(),:]"
   ]
  },
  {
   "cell_type": "code",
   "execution_count": null,
   "id": "major-seattle",
   "metadata": {},
   "outputs": [],
   "source": []
  },
  {
   "cell_type": "code",
   "execution_count": 4,
   "id": "parliamentary-junior",
   "metadata": {
    "scrolled": true
   },
   "outputs": [
    {
     "name": "stdout",
     "output_type": "stream",
     "text": [
      "Total Months:  86\n",
      "Net Profit: $ 38382578\n",
      "Average Change: $ -2315.12\n",
      "Greatest Increase in Profits:  Feb-2012 $1926159\n",
      "Greatest Decrease in Profits:  Sep-2013 $-2196167\n"
     ]
    }
   ],
   "source": [
    "print(\"Total Months: \", months)\n",
    "print(\"Net Profit: $\", net_profit)\n",
    "print(\"Average Change: $\", avg_change) #language on thsi one confusing; ask\n",
    "print(\"Greatest Increase in Profits: \", max_increase.iloc[0,0], \"$\" + str(max_increase.iloc[0,2]))\n",
    "print(\"Greatest Decrease in Profits: \", max_decrease.iloc[0,0],\"$\" + str(max_decrease.iloc[0,2]))\n",
    "\n"
   ]
  },
  {
   "cell_type": "code",
   "execution_count": 7,
   "id": "chubby-stream",
   "metadata": {},
   "outputs": [],
   "source": [
    "with open(\"Analysis/PyBank.txt\",'w') as pybank:\n",
    "    pybank.write(\"Total Months: \"+ str(months))\n",
    "    pybank.write(\"\\nNet Profit: $\" + str(net_profit))\n",
    "    pybank.write(\"\\nAverage Change: $\" + str(avg_change)) #language on thsi one confusing; ask\n",
    "    pybank.write(\"\\nGreatest Increase in Profits: \" + str(max_increase.iloc[0,0]) + \"$\" + str(max_increase.iloc[0,2]))\n",
    "    pybank.write(\"\\nGreatest Decrease in Profits: \" + str(max_decrease.iloc[0,0]) + \"$\" + str(max_decrease.iloc[0,2]))\n"
   ]
  }
 ],
 "metadata": {
  "kernelspec": {
   "display_name": "Python [conda env:PythonData] *",
   "language": "python",
   "name": "conda-env-PythonData-py"
  },
  "language_info": {
   "codemirror_mode": {
    "name": "ipython",
    "version": 3
   },
   "file_extension": ".py",
   "mimetype": "text/x-python",
   "name": "python",
   "nbconvert_exporter": "python",
   "pygments_lexer": "ipython3",
   "version": "3.6.10"
  }
 },
 "nbformat": 4,
 "nbformat_minor": 5
}
