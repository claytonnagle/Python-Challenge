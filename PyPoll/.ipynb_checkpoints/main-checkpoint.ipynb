{
 "cells": [
  {
   "cell_type": "code",
   "execution_count": 1,
   "id": "freelance-annual",
   "metadata": {},
   "outputs": [
    {
     "data": {
      "text/html": [
       "<div>\n",
       "<style scoped>\n",
       "    .dataframe tbody tr th:only-of-type {\n",
       "        vertical-align: middle;\n",
       "    }\n",
       "\n",
       "    .dataframe tbody tr th {\n",
       "        vertical-align: top;\n",
       "    }\n",
       "\n",
       "    .dataframe thead th {\n",
       "        text-align: right;\n",
       "    }\n",
       "</style>\n",
       "<table border=\"1\" class=\"dataframe\">\n",
       "  <thead>\n",
       "    <tr style=\"text-align: right;\">\n",
       "      <th></th>\n",
       "      <th>Voter ID</th>\n",
       "      <th>County</th>\n",
       "      <th>Candidate</th>\n",
       "    </tr>\n",
       "  </thead>\n",
       "  <tbody>\n",
       "    <tr>\n",
       "      <th>0</th>\n",
       "      <td>12864552</td>\n",
       "      <td>Marsh</td>\n",
       "      <td>Khan</td>\n",
       "    </tr>\n",
       "    <tr>\n",
       "      <th>1</th>\n",
       "      <td>17444633</td>\n",
       "      <td>Marsh</td>\n",
       "      <td>Correy</td>\n",
       "    </tr>\n",
       "    <tr>\n",
       "      <th>2</th>\n",
       "      <td>19330107</td>\n",
       "      <td>Marsh</td>\n",
       "      <td>Khan</td>\n",
       "    </tr>\n",
       "    <tr>\n",
       "      <th>3</th>\n",
       "      <td>19865775</td>\n",
       "      <td>Queen</td>\n",
       "      <td>Khan</td>\n",
       "    </tr>\n",
       "    <tr>\n",
       "      <th>4</th>\n",
       "      <td>11927875</td>\n",
       "      <td>Marsh</td>\n",
       "      <td>Khan</td>\n",
       "    </tr>\n",
       "  </tbody>\n",
       "</table>\n",
       "</div>"
      ],
      "text/plain": [
       "   Voter ID County Candidate\n",
       "0  12864552  Marsh      Khan\n",
       "1  17444633  Marsh    Correy\n",
       "2  19330107  Marsh      Khan\n",
       "3  19865775  Queen      Khan\n",
       "4  11927875  Marsh      Khan"
      ]
     },
     "execution_count": 1,
     "metadata": {},
     "output_type": "execute_result"
    }
   ],
   "source": [
    "import pandas as pd \n",
    "poll_df = pd.read_csv('Resources/election_data.csv')\n",
    "poll_df.head()"
   ]
  },
  {
   "cell_type": "code",
   "execution_count": 2,
   "id": "wrapped-collect",
   "metadata": {
    "scrolled": true
   },
   "outputs": [
    {
     "name": "stdout",
     "output_type": "stream",
     "text": [
      "['Khan' 2218231 63.0]\n",
      "['Correy' 704200 20.0]\n",
      "['Li' 492940 14.0]\n",
      "[\"O'Tooley\" 105630 3.0]\n"
     ]
    }
   ],
   "source": [
    "candidate_votes = poll_df['Candidate'].value_counts()\n",
    "total_votes = len(poll_df)\n",
    "candidate_names = list(candidate_votes.index)\n",
    "candidate_votes = list(candidate_votes.values)\n",
    "\n",
    "results_df = pd.DataFrame({'Candidate':candidate_names, \"Votes\":candidate_votes})\n",
    "results_df[\"Share\"] = round(results_df['Votes']/total_votes*100.0,2)\n",
    "\n",
    "for i in range(len(results_df)):\n",
    "    print(results_df.loc[i,:].values)"
   ]
  },
  {
   "cell_type": "code",
   "execution_count": 3,
   "id": "whole-trainer",
   "metadata": {},
   "outputs": [],
   "source": [
    "with open(\"Analysis/PyPoll.txt\",'w') as pypoll:\n",
    "    pypoll.write(\"Total votes: \"+ str(total_votes))\n",
    "    for i in range(len(results_df)):\n",
    "        pypoll.write(\"\\n\" + str(results_df.loc[i,:].values))\n",
    "    pypoll.write(\"\\nWinner: \" + str(results_df.loc[results_df['Votes'] == results_df['Votes'].max(),'Candidate'].values))"
   ]
  }
 ],
 "metadata": {
  "kernelspec": {
   "display_name": "Python [conda env:PythonData] *",
   "language": "python",
   "name": "conda-env-PythonData-py"
  },
  "language_info": {
   "codemirror_mode": {
    "name": "ipython",
    "version": 3
   },
   "file_extension": ".py",
   "mimetype": "text/x-python",
   "name": "python",
   "nbconvert_exporter": "python",
   "pygments_lexer": "ipython3",
   "version": "3.6.10"
  }
 },
 "nbformat": 4,
 "nbformat_minor": 5
}
