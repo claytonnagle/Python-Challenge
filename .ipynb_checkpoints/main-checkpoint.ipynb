{
 "cells": [
  {
   "cell_type": "code",
   "execution_count": 3,
   "id": "simple-light",
   "metadata": {},
   "outputs": [],
   "source": [
    "import pandas as pd\n"
   ]
  },
  {
   "cell_type": "code",
   "execution_count": 4,
   "id": "diverse-excuse",
   "metadata": {
    "scrolled": true
   },
   "outputs": [
    {
     "data": {
      "text/html": [
       "<div>\n",
       "<style scoped>\n",
       "    .dataframe tbody tr th:only-of-type {\n",
       "        vertical-align: middle;\n",
       "    }\n",
       "\n",
       "    .dataframe tbody tr th {\n",
       "        vertical-align: top;\n",
       "    }\n",
       "\n",
       "    .dataframe thead th {\n",
       "        text-align: right;\n",
       "    }\n",
       "</style>\n",
       "<table border=\"1\" class=\"dataframe\">\n",
       "  <thead>\n",
       "    <tr style=\"text-align: right;\">\n",
       "      <th></th>\n",
       "      <th>Date</th>\n",
       "      <th>Profit/Losses</th>\n",
       "    </tr>\n",
       "  </thead>\n",
       "  <tbody>\n",
       "    <tr>\n",
       "      <th>0</th>\n",
       "      <td>Jan-2010</td>\n",
       "      <td>867884</td>\n",
       "    </tr>\n",
       "    <tr>\n",
       "      <th>1</th>\n",
       "      <td>Feb-2010</td>\n",
       "      <td>984655</td>\n",
       "    </tr>\n",
       "    <tr>\n",
       "      <th>2</th>\n",
       "      <td>Mar-2010</td>\n",
       "      <td>322013</td>\n",
       "    </tr>\n",
       "    <tr>\n",
       "      <th>3</th>\n",
       "      <td>Apr-2010</td>\n",
       "      <td>-69417</td>\n",
       "    </tr>\n",
       "    <tr>\n",
       "      <th>4</th>\n",
       "      <td>May-2010</td>\n",
       "      <td>310503</td>\n",
       "    </tr>\n",
       "  </tbody>\n",
       "</table>\n",
       "</div>"
      ],
      "text/plain": [
       "       Date  Profit/Losses\n",
       "0  Jan-2010         867884\n",
       "1  Feb-2010         984655\n",
       "2  Mar-2010         322013\n",
       "3  Apr-2010         -69417\n",
       "4  May-2010         310503"
      ]
     },
     "execution_count": 4,
     "metadata": {},
     "output_type": "execute_result"
    }
   ],
   "source": [
    "budget_df = pd.read_csv('Resources/budget_data.csv')\n",
    "budget_df.head()"
   ]
  },
  {
   "cell_type": "code",
   "execution_count": 18,
   "id": "subject-rainbow",
   "metadata": {
    "scrolled": true
   },
   "outputs": [],
   "source": [
    "months = len(budget_df['Date'])\n",
    "net_profit = budget_df['Profit/Losses'].sum()\n",
    "\n",
    "budget_df['Delta'] = None\n",
    "for i in range(1,len(budget_df)):\n",
    "    budget_df.loc[i,'Delta'] = budget_df.loc[i,'Profit/Losses'] - budget_df.loc[i-1,'Profit/Losses']\n",
    "\n",
    "avg_change = round(budget_df['Delta'].mean(),2)\n",
    "\n",
    "\n",
    "max_increase = budget_df.loc[budget_df[\"Delta\"] == budget_df[\"Delta\"].max(),:]\n",
    "max_decrease = budget_df.loc[budget_df[\"Delta\"] == budget_df[\"Delta\"].min(),:]"
   ]
  },
  {
   "cell_type": "code",
   "execution_count": null,
   "id": "major-seattle",
   "metadata": {},
   "outputs": [],
   "source": []
  },
  {
   "cell_type": "code",
   "execution_count": 20,
   "id": "parliamentary-junior",
   "metadata": {
    "scrolled": true
   },
   "outputs": [
    {
     "name": "stdout",
     "output_type": "stream",
     "text": [
      "Total Months:  86\n",
      "Net Profit: $ 38382578\n",
      "Average Change: $ -2315.12\n",
      "Greatest Increase in Profits:  Feb-2012 $1926159\n",
      "Greatest Decrease in Profits:  Sep-2013 $-2196167\n"
     ]
    }
   ],
   "source": [
    "print(\"Total Months: \", months)\n",
    "print(\"Net Profit: $\", net_profit)\n",
    "print(\"Average Change: $\", avg_change) #language on thsi one confusing; ask\n",
    "print(\"Greatest Increase in Profits: \", max_increase.iloc[0,0], \"$\" + str(max_increase.iloc[0,2]))\n",
    "print(\"Greatest Decrease in Profits: \", max_decrease.iloc[0,0],\"$\" + str(max_decrease.iloc[0,2]))\n",
    "\n"
   ]
  },
  {
   "cell_type": "code",
   "execution_count": 31,
   "id": "chubby-stream",
   "metadata": {},
   "outputs": [],
   "source": [
    "with open(\"PyBank.txt\",'w') as pybank:\n",
    "    pybank.write(\"Total Months: \"+ str(months))\n",
    "    pybank.write(\"\\nNet Profit: $\" + str(net_profit))\n",
    "    pybank.write(\"\\nAverage Change: $\" + str(avg_change)) #language on thsi one confusing; ask\n",
    "    pybank.write(\"\\nGreatest Increase in Profits: \" + str(max_increase.iloc[0,0]) + \"$\" + str(max_increase.iloc[0,2]))\n",
    "    pybank.write(\"\\nGreatest Decrease in Profits: \" + str(max_decrease.iloc[0,0]) + \"$\" + str(max_decrease.iloc[0,2]))\n"
   ]
  },
  {
   "cell_type": "code",
   "execution_count": null,
   "id": "known-romance",
   "metadata": {},
   "outputs": [],
   "source": []
  },
  {
   "cell_type": "markdown",
   "id": "viral-brighton",
   "metadata": {},
   "source": [
    "# Pypoll\n"
   ]
  },
  {
   "cell_type": "code",
   "execution_count": 32,
   "id": "effective-testimony",
   "metadata": {
    "scrolled": true
   },
   "outputs": [
    {
     "data": {
      "text/html": [
       "<div>\n",
       "<style scoped>\n",
       "    .dataframe tbody tr th:only-of-type {\n",
       "        vertical-align: middle;\n",
       "    }\n",
       "\n",
       "    .dataframe tbody tr th {\n",
       "        vertical-align: top;\n",
       "    }\n",
       "\n",
       "    .dataframe thead th {\n",
       "        text-align: right;\n",
       "    }\n",
       "</style>\n",
       "<table border=\"1\" class=\"dataframe\">\n",
       "  <thead>\n",
       "    <tr style=\"text-align: right;\">\n",
       "      <th></th>\n",
       "      <th>Voter ID</th>\n",
       "      <th>County</th>\n",
       "      <th>Candidate</th>\n",
       "    </tr>\n",
       "  </thead>\n",
       "  <tbody>\n",
       "    <tr>\n",
       "      <th>0</th>\n",
       "      <td>12864552</td>\n",
       "      <td>Marsh</td>\n",
       "      <td>Khan</td>\n",
       "    </tr>\n",
       "    <tr>\n",
       "      <th>1</th>\n",
       "      <td>17444633</td>\n",
       "      <td>Marsh</td>\n",
       "      <td>Correy</td>\n",
       "    </tr>\n",
       "    <tr>\n",
       "      <th>2</th>\n",
       "      <td>19330107</td>\n",
       "      <td>Marsh</td>\n",
       "      <td>Khan</td>\n",
       "    </tr>\n",
       "    <tr>\n",
       "      <th>3</th>\n",
       "      <td>19865775</td>\n",
       "      <td>Queen</td>\n",
       "      <td>Khan</td>\n",
       "    </tr>\n",
       "    <tr>\n",
       "      <th>4</th>\n",
       "      <td>11927875</td>\n",
       "      <td>Marsh</td>\n",
       "      <td>Khan</td>\n",
       "    </tr>\n",
       "  </tbody>\n",
       "</table>\n",
       "</div>"
      ],
      "text/plain": [
       "   Voter ID County Candidate\n",
       "0  12864552  Marsh      Khan\n",
       "1  17444633  Marsh    Correy\n",
       "2  19330107  Marsh      Khan\n",
       "3  19865775  Queen      Khan\n",
       "4  11927875  Marsh      Khan"
      ]
     },
     "execution_count": 32,
     "metadata": {},
     "output_type": "execute_result"
    }
   ],
   "source": [
    "poll_df = pd.read_csv('Resources/election_data.csv')\n",
    "poll_df.head()"
   ]
  },
  {
   "cell_type": "code",
   "execution_count": 86,
   "id": "minus-frost",
   "metadata": {},
   "outputs": [],
   "source": [
    "candidate_votes = poll_df['Candidate'].value_counts()\n",
    "total_votes = len(poll_df)\n",
    "candidate_names = list(candidate_votes.index)\n",
    "candidate_votes = list(candidate_votes.values)"
   ]
  },
  {
   "cell_type": "code",
   "execution_count": 101,
   "id": "plain-huntington",
   "metadata": {},
   "outputs": [],
   "source": [
    "results_df = pd.DataFrame({'Candidate':candidate_names, \"Votes\":candidate_votes})\n",
    "results_df[\"Share\"] = round(results_df['Votes']/total_votes*100.0,2)"
   ]
  },
  {
   "cell_type": "code",
   "execution_count": 99,
   "id": "coated-delight",
   "metadata": {},
   "outputs": [],
   "source": []
  },
  {
   "cell_type": "code",
   "execution_count": 102,
   "id": "parental-cedar",
   "metadata": {
    "scrolled": true
   },
   "outputs": [
    {
     "name": "stdout",
     "output_type": "stream",
     "text": [
      "['Khan' 2218231 63.0]\n",
      "['Correy' 704200 20.0]\n",
      "['Li' 492940 14.0]\n",
      "[\"O'Tooley\" 105630 3.0]\n"
     ]
    }
   ],
   "source": [
    "for i in range(len(results_df)):\n",
    "    print(results_df.loc[i,:].values)"
   ]
  },
  {
   "cell_type": "code",
   "execution_count": 91,
   "id": "naked-shadow",
   "metadata": {},
   "outputs": [],
   "source": [
    "with open(\"PyPoll.txt\",'w') as pypoll:\n",
    "    pypoll.write(\"Total votes: \"+ str(total_votes))\n",
    "    for i in range(len(results_df)):\n",
    "        pypoll.write(\"\\n\" + str(results_df.loc[i,:].values))\n",
    "    pypoll.write(\"\\nWinner: \" + str(results_df.loc[results_df['Votes'] == results_df['Votes'].max(),'Candidate'].values))"
   ]
  }
 ],
 "metadata": {
  "kernelspec": {
   "display_name": "Python [conda env:PythonData] *",
   "language": "python",
   "name": "conda-env-PythonData-py"
  },
  "language_info": {
   "codemirror_mode": {
    "name": "ipython",
    "version": 3
   },
   "file_extension": ".py",
   "mimetype": "text/x-python",
   "name": "python",
   "nbconvert_exporter": "python",
   "pygments_lexer": "ipython3",
   "version": "3.6.10"
  }
 },
 "nbformat": 4,
 "nbformat_minor": 5
}
